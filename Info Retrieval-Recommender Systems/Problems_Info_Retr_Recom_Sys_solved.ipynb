{
  "cells": [
    {
      "cell_type": "markdown",
      "metadata": {
        "id": "IUAi0h--YyaY"
      },
      "source": [
        "# Problems - Information Retrieval and Recommender Systems"
      ]
    },
    {
      "cell_type": "markdown",
      "metadata": {
        "id": "mKHyiFgfYyaa"
      },
      "source": [
        "##  Information Retrieval - an online shop"
      ]
    },
    {
      "cell_type": "markdown",
      "metadata": {
        "id": "QLV6wCovYyab"
      },
      "source": [
        "Your online shop, sells 80 different products. You recently contracted a company to implement a \"search\" functionality for your shop. The company has just delivered their new retrieval system, and you are now testing it out.\n",
        "\n",
        "You try the system, with a specific query, and the system displays the 10 products with the following IDs on the first page:"
      ]
    },
    {
      "cell_type": "code",
      "execution_count": 1,
      "metadata": {
        "id": "e1jNVMa7Yyac"
      },
      "outputs": [],
      "source": [
        "import numpy as np\n",
        "\n",
        "result = np.array([ 2, 20, 36, 41, 44,  6, 71, 79, 78,  9])"
      ]
    },
    {
      "cell_type": "markdown",
      "metadata": {
        "id": "ovKpLIAtYyad"
      },
      "source": [
        "You know that for the query you tried out, the relevant products are the ones with ids:"
      ]
    },
    {
      "cell_type": "code",
      "execution_count": 2,
      "metadata": {
        "id": "DRf_xA2iYyad",
        "outputId": "0d946d21-c385-44a7-8f03-8fb31e24c61a",
        "colab": {
          "base_uri": "https://localhost:8080/"
        }
      },
      "outputs": [
        {
          "output_type": "stream",
          "name": "stdout",
          "text": [
            "17\n"
          ]
        }
      ],
      "source": [
        "relevant_idx = np.array([ 2,  3,  5,  9, 14, 20, 36, 38, 39, 44, 48, 54, 58, 71, 75, 77, 78])\n",
        "print(len(relevant_idx))"
      ]
    },
    {
      "cell_type": "markdown",
      "metadata": {
        "id": "zKq40Vm9Yyae"
      },
      "source": [
        "<font color=blue> How many relevant items did the system return? </font>"
      ]
    },
    {
      "cell_type": "code",
      "source": [
        "relevant_items = []\n",
        "for item in result:\n",
        "  if item in relevant_idx:\n",
        "    relevant_items.append(item)\n",
        "print(\"Relevant items for the system output: \",relevant_items)\n",
        "print(\"Number of relevant items: \",len(relevant_items))"
      ],
      "metadata": {
        "colab": {
          "base_uri": "https://localhost:8080/"
        },
        "id": "BKoePZRHK5b9",
        "outputId": "9aeda908-eca8-4a9c-d4b0-94c1fb82ce33"
      },
      "execution_count": 5,
      "outputs": [
        {
          "output_type": "stream",
          "name": "stdout",
          "text": [
            "Relevant items for the system output:  [2, 20, 36, 44, 71, 78, 9]\n",
            "Number of relevant items:  7\n"
          ]
        }
      ]
    },
    {
      "cell_type": "markdown",
      "metadata": {
        "id": "_fAgsnXwYyag"
      },
      "source": [
        "</br>\n",
        "\n",
        "<font color=blue> What is the Precision, Recall and F1-score values for the above query? </font>\n",
        "\n",
        "Remember:\n",
        "\n",
        "$P = \\frac{\\lvert ret \\cap rel \\rvert}{ret}$\n",
        "\n",
        "$R = \\frac{\\lvert ret \\cap rel \\rvert}{rel}$\n",
        "\n",
        "$F = \\frac{2 P R}{P + R}$"
      ]
    },
    {
      "cell_type": "code",
      "source": [
        "precision = recall = f1 = 0\n",
        "tp = len(relevant_items)\n",
        "precision = tp / len(result)\n",
        "recall = tp / len(relevant_idx)\n",
        "f1 = 2*precision*recall / (precision+recall)\n",
        "print(\"Precision: \",precision)\n",
        "print(\"Recall: \",recall)\n",
        "print(\"F1 score: \",f1)"
      ],
      "metadata": {
        "colab": {
          "base_uri": "https://localhost:8080/"
        },
        "id": "vUqOlpozUDPN",
        "outputId": "379f1736-c148-4658-b291-1a759ecb419a"
      },
      "execution_count": 7,
      "outputs": [
        {
          "output_type": "stream",
          "name": "stdout",
          "text": [
            "Precision:  0.7\n",
            "Recall:  0.4117647058823529\n",
            "F1 score:  0.5185185185185185\n"
          ]
        }
      ]
    },
    {
      "cell_type": "markdown",
      "metadata": {
        "id": "3nsveW-NYyah"
      },
      "source": [
        "The retrieval system only displays the ten best products on the first page, but internally it has scored all the products in the database against the query. For the same query as before, the scores for all 80 products that the system has calculated are given in the list below. The higher the number, the better it matches the query."
      ]
    },
    {
      "cell_type": "code",
      "execution_count": 8,
      "metadata": {
        "id": "VJAKsWaHYyah"
      },
      "outputs": [],
      "source": [
        "scores = np.array([76.25960904, 37.2712716 , 97.43522538, 85.2135435 , 38.42166524,\n",
        "       59.33358171, 90.84382517, 34.59173848, 53.24126568, 87.80759099,\n",
        "       71.13477237, 52.24501123, 53.84857359, 72.34145019, 82.60724712,\n",
        "       60.13854056, 50.02218001, 67.69020948, 49.20740763, 48.19740307,\n",
        "       97.26734714, 33.43817817, 46.61489   , 45.70630798, 12.03883746,\n",
        "       43.71217679, 66.03930779, 76.31438734, 10.98192963, 29.80459484,\n",
        "       14.7397168 , 21.48280983, 39.81730095, 28.18530124, 36.35538331,\n",
        "       55.10834932, 95.5515258 , 13.10765296, 86.70784949, 81.82826684,\n",
        "       55.79913761, 94.58702549, 79.3577133 , 72.84811652, 92.9954021 ,\n",
        "       78.36304059, 62.00806942, 16.43752292, 83.44531762, 82.46218716,\n",
        "       10.26819206, 64.56747866, 61.1888231 , 11.73771   , 36.15240615,\n",
        "       63.08775437, 18.5772151 , 15.75830887, 40.75549881, 68.84171716,\n",
        "       16.72596633, 57.49016213, 51.46845883, 23.56191592, 43.31518323,\n",
        "       74.93840142, 25.68485212, 26.20211702, 27.50582533, 63.53842237,\n",
        "       28.30218436, 89.65913426, 31.90662515, 41.68472171, 69.13468994,\n",
        "       36.35852244, 19.61632789, 79.82716108, 88.39815675, 88.55666924])"
      ]
    },
    {
      "cell_type": "markdown",
      "metadata": {
        "id": "gQWqbTU0Yyai"
      },
      "source": [
        "</br>\n",
        "\n",
        "<font color=blue> Can you calculate the Precision and Recall if you displayed 20 or 40 products on the first page? </font>\n",
        "\n",
        "> Note 1: This is what we would call P@20, R@20, P@40, R@40.\n",
        "\n",
        "> Note 2: Have a look at the Numpy function `argsort()` to solve this problem  ( https://numpy.org/doc/1.18/reference/generated/numpy.argsort.html )."
      ]
    },
    {
      "cell_type": "code",
      "source": [
        "sorted_idx = (-scores).argsort()\n",
        "sorted_idx_20 = sorted_idx[:20]\n",
        "sorted_idx_40 = sorted_idx[:40]\n",
        "\n",
        "relevant_items_20 = []\n",
        "relevant_items_40 = []\n",
        "\n",
        "for item in sorted_idx_20:\n",
        "  if item in relevant_idx:\n",
        "    relevant_items_20.append(item)\n",
        "\n",
        "for item in sorted_idx_40:\n",
        "  if item in relevant_idx:\n",
        "    relevant_items_40.append(item)\n",
        "\n",
        "precision_20 = len(relevant_items_20) / 20\n",
        "recall_20 = len(relevant_items_20) / len(relevant_idx)\n",
        "f1_20 = 2*precision_20*recall_20/(precision_20+recall_20)\n",
        "\n",
        "precision_40 = len(relevant_items_40) / 40\n",
        "recall_40 = len(relevant_items_40) / len(relevant_idx)\n",
        "f1_40 = 2*precision_40*recall_40/(precision_40+recall_40)\n",
        "\n",
        "print(\"Precision @ 20: \",precision_20)\n",
        "print(\"Recall @ 20: \",recall_20)\n",
        "print(\"F1 score @ 20: \",f1_20)\n",
        "\n",
        "print(\"Precision @ 40: \",precision_40)\n",
        "print(\"Recall @ 40: \",recall_40)\n",
        "print(\"F1 score @ 40: \",f1_40)"
      ],
      "metadata": {
        "colab": {
          "base_uri": "https://localhost:8080/"
        },
        "id": "i0H_4qfJUX9L",
        "outputId": "a88b44a1-7eff-4983-cbd1-2fb45ed86e0e"
      },
      "execution_count": 13,
      "outputs": [
        {
          "output_type": "stream",
          "name": "stdout",
          "text": [
            "Precision @ 20:  0.65\n",
            "Recall @ 20:  0.7647058823529411\n",
            "F1 score @ 20:  0.7027027027027027\n",
            "Precision @ 40:  0.35\n",
            "Recall @ 40:  0.8235294117647058\n",
            "F1 score @ 40:  0.4912280701754386\n"
          ]
        }
      ]
    },
    {
      "cell_type": "markdown",
      "metadata": {
        "id": "aeX0VnvvYyaj"
      },
      "source": [
        "</br>\n",
        "\n",
        "<font color=blue> In order to get an overall idea about how good the retrieval is, draw the Precision/Recall plot </font>"
      ]
    },
    {
      "cell_type": "code",
      "source": [
        "precision = []\n",
        "recall = []\n",
        "count = 0\n",
        "for id,item in enumerate(sorted_idx):\n",
        "  if item in relevant_idx:\n",
        "    count+=1\n",
        "  precision.append(count/(id+1))\n",
        "  recall.append(count/len(relevant_idx))\n",
        "\n",
        "print(precision)\n",
        "print(recall)\n"
      ],
      "metadata": {
        "colab": {
          "base_uri": "https://localhost:8080/"
        },
        "id": "QZADclWOW7Gr",
        "outputId": "e23f80b8-5248-4a4d-b26d-6dec6214c859"
      },
      "execution_count": 16,
      "outputs": [
        {
          "output_type": "stream",
          "name": "stdout",
          "text": [
            "[1.0, 1.0, 1.0, 0.75, 0.8, 0.6666666666666666, 0.7142857142857143, 0.625, 0.6666666666666666, 0.7, 0.7272727272727273, 0.75, 0.7692307692307693, 0.7857142857142857, 0.7333333333333333, 0.75, 0.7647058823529411, 0.7222222222222222, 0.6842105263157895, 0.65, 0.6190476190476191, 0.5909090909090909, 0.5652173913043478, 0.5416666666666666, 0.52, 0.5, 0.48148148148148145, 0.4642857142857143, 0.4482758620689655, 0.43333333333333335, 0.41935483870967744, 0.40625, 0.3939393939393939, 0.38235294117647056, 0.37142857142857144, 0.3888888888888889, 0.3783783783783784, 0.3684210526315789, 0.358974358974359, 0.35, 0.34146341463414637, 0.3333333333333333, 0.32558139534883723, 0.3181818181818182, 0.3111111111111111, 0.30434782608695654, 0.2978723404255319, 0.2916666666666667, 0.2857142857142857, 0.28, 0.27450980392156865, 0.28846153846153844, 0.2830188679245283, 0.2777777777777778, 0.2727272727272727, 0.2857142857142857, 0.2807017543859649, 0.29310344827586204, 0.288135593220339, 0.2833333333333333, 0.2786885245901639, 0.27419354838709675, 0.2698412698412698, 0.265625, 0.26153846153846155, 0.25757575757575757, 0.2537313432835821, 0.25, 0.2463768115942029, 0.24285714285714285, 0.23943661971830985, 0.2361111111111111, 0.2328767123287671, 0.22972972972972974, 0.22666666666666666, 0.2236842105263158, 0.22077922077922077, 0.21794871794871795, 0.21518987341772153, 0.2125]\n",
            "[0.058823529411764705, 0.11764705882352941, 0.17647058823529413, 0.17647058823529413, 0.23529411764705882, 0.23529411764705882, 0.29411764705882354, 0.29411764705882354, 0.35294117647058826, 0.4117647058823529, 0.47058823529411764, 0.5294117647058824, 0.5882352941176471, 0.6470588235294118, 0.6470588235294118, 0.7058823529411765, 0.7647058823529411, 0.7647058823529411, 0.7647058823529411, 0.7647058823529411, 0.7647058823529411, 0.7647058823529411, 0.7647058823529411, 0.7647058823529411, 0.7647058823529411, 0.7647058823529411, 0.7647058823529411, 0.7647058823529411, 0.7647058823529411, 0.7647058823529411, 0.7647058823529411, 0.7647058823529411, 0.7647058823529411, 0.7647058823529411, 0.7647058823529411, 0.8235294117647058, 0.8235294117647058, 0.8235294117647058, 0.8235294117647058, 0.8235294117647058, 0.8235294117647058, 0.8235294117647058, 0.8235294117647058, 0.8235294117647058, 0.8235294117647058, 0.8235294117647058, 0.8235294117647058, 0.8235294117647058, 0.8235294117647058, 0.8235294117647058, 0.8235294117647058, 0.8823529411764706, 0.8823529411764706, 0.8823529411764706, 0.8823529411764706, 0.9411764705882353, 0.9411764705882353, 1.0, 1.0, 1.0, 1.0, 1.0, 1.0, 1.0, 1.0, 1.0, 1.0, 1.0, 1.0, 1.0, 1.0, 1.0, 1.0, 1.0, 1.0, 1.0, 1.0, 1.0, 1.0, 1.0]\n"
          ]
        }
      ]
    },
    {
      "cell_type": "code",
      "source": [
        "import matplotlib.pyplot as plt\n",
        "\n",
        "plt.plot(recall, precision)\n",
        "plt.xlabel(\"Recall\")\n",
        "plt.ylabel(\"Precision\")\n",
        "plt.show()"
      ],
      "metadata": {
        "colab": {
          "base_uri": "https://localhost:8080/",
          "height": 449
        },
        "id": "5TQ_qpgAbi82",
        "outputId": "3ccb2d8f-a06b-403b-d30d-92321c219b73"
      },
      "execution_count": 17,
      "outputs": [
        {
          "output_type": "display_data",
          "data": {
            "text/plain": [
              "<Figure size 640x480 with 1 Axes>"
            ],
            "image/png": "[encoded data removed]"
          },
          "metadata": {}
        }
      ]
    },
    {
      "cell_type": "markdown",
      "metadata": {
        "id": "osDi81KJYyak"
      },
      "source": [
        "</br>\n",
        "\n",
        "<font color=blue> Now calculate the Average Precision value. </font>\n",
        "\n",
        "<i> Remember: </i>\n",
        "\n",
        "$AP = \\displaystyle\\sum_{k=1}^{N} P(k) \\Delta R(k)$\n",
        "\n",
        "or\n",
        "\n",
        "$AP = \\displaystyle \\frac{\\sum_{k=1}^{N} P(k) rel(k)}{|rel|}$"
      ]
    },
    {
      "cell_type": "code",
      "source": [
        "recall = [0] + recall\n",
        "AP = 0\n",
        "for i in range(1,len(precision)+1):\n",
        "  AP +=precision[i-1]*(recall[i]-recall[i-1])\n",
        "\n",
        "print(\"AP: \",AP)"
      ],
      "metadata": {
        "colab": {
          "base_uri": "https://localhost:8080/"
        },
        "id": "w2ixqfeXdFFJ",
        "outputId": "e26f7c52-418e-46e8-e01d-2442dafc79e0"
      },
      "execution_count": 18,
      "outputs": [
        {
          "output_type": "stream",
          "name": "stdout",
          "text": [
            "AP:  0.6872967180508048\n"
          ]
        }
      ]
    },
    {
      "cell_type": "markdown",
      "metadata": {
        "id": "r1E1MPX5Yyak"
      },
      "source": [
        "## Recommender Systems"
      ]
    },
    {
      "cell_type": "markdown",
      "metadata": {
        "id": "QTZocvrxYyal"
      },
      "source": [
        "You are working on a movie recommendation system, and you have been given the following ratings table.\n",
        "\n",
        "Each row corresponds to a user, and each column to a movie. Ratings are between 1 and 5 stars, while a rating equal to `None` (NaN) means that the user has not rated that particular movie."
      ]
    },
    {
      "cell_type": "code",
      "execution_count": 38,
      "metadata": {
        "id": "UxEz2cAcYyal"
      },
      "outputs": [],
      "source": [
        "import pandas as pd"
      ]
    },
    {
      "cell_type": "code",
      "execution_count": 39,
      "metadata": {
        "id": "AF1chc9mYyal",
        "outputId": "25c324c3-fe1a-4df8-b5fe-2313966d0708",
        "colab": {
          "base_uri": "https://localhost:8080/",
          "height": 554
        }
      },
      "outputs": [
        {
          "output_type": "execute_result",
          "data": {
            "text/plain": [
              "        Movie 0  Movie 1  Movie 2  Movie 3  Movie 4  Movie 5  Movie 6  \\\n",
              "User 0      4.0      1.0        5      2.0      4.0        5      NaN   \n",
              "User 1      5.0      1.0        3      5.0      1.0        2      4.0   \n",
              "User 2      1.0      NaN        1      NaN      5.0        1      5.0   \n",
              "User 3      NaN      1.0        3      1.0      NaN        1      3.0   \n",
              "User 4      3.0      3.0        4      2.0      NaN        2      4.0   \n",
              "User 5      4.0      NaN        1      2.0      2.0        4      2.0   \n",
              "User 6      2.0      4.0        3      2.0      1.0        2      NaN   \n",
              "User 7      5.0      5.0        5      4.0      4.0        4      2.0   \n",
              "User 8      5.0      1.0        3      NaN      1.0        4      5.0   \n",
              "User 9      2.0      3.0        1      5.0      3.0        1      4.0   \n",
              "\n",
              "        Movie 7  Movie 8  Movie 9  Movie 10  Movie 11  Movie 12  Movie 13  \\\n",
              "User 0      1.0      3.0      1.0       5.0       1.0       5.0       NaN   \n",
              "User 1      3.0      NaN      NaN       5.0       1.0       4.0       1.0   \n",
              "User 2      4.0      2.0      1.0       1.0       NaN       4.0       1.0   \n",
              "User 3      4.0      4.0      NaN       5.0       3.0       2.0       NaN   \n",
              "User 4      1.0      4.0      NaN       NaN       3.0       NaN       NaN   \n",
              "User 5      1.0      2.0      1.0       5.0       3.0       5.0       3.0   \n",
              "User 6      NaN      3.0      NaN       5.0       5.0       NaN       NaN   \n",
              "User 7      1.0      NaN      1.0       4.0       3.0       5.0       3.0   \n",
              "User 8      4.0      NaN      4.0       5.0       NaN       1.0       NaN   \n",
              "User 9      1.0      1.0      2.0       5.0       NaN       4.0       NaN   \n",
              "\n",
              "        Movie 14  \n",
              "User 0       NaN  \n",
              "User 1       NaN  \n",
              "User 2       2.0  \n",
              "User 3       4.0  \n",
              "User 4       NaN  \n",
              "User 5       4.0  \n",
              "User 6       NaN  \n",
              "User 7       3.0  \n",
              "User 8       NaN  \n",
              "User 9       5.0  "
            ],
            "text/html": [
              "\n",
              "  <div id=\"df-d2a43283-86d2-4564-a432-e9693887ca30\" class=\"colab-df-container\">\n",
              "    <div>\n",
              "<style scoped>\n",
              "    .dataframe tbody tr th:only-of-type {\n",
              "        vertical-align: middle;\n",
              "    }\n",
              "\n",
              "    .dataframe tbody tr th {\n",
              "        vertical-align: top;\n",
              "    }\n",
              "\n",
              "    .dataframe thead th {\n",
              "        text-align: right;\n",
              "    }\n",
              "</style>\n",
              "<table border=\"1\" class=\"dataframe\">\n",
              "  <thead>\n",
              "    <tr style=\"text-align: right;\">\n",
              "      <th></th>\n",
              "      <th>Movie 0</th>\n",
              "      <th>Movie 1</th>\n",
              "      <th>Movie 2</th>\n",
              "      <th>Movie 3</th>\n",
              "      <th>Movie 4</th>\n",
              "      <th>Movie 5</th>\n",
              "      <th>Movie 6</th>\n",
              "      <th>Movie 7</th>\n",
              "      <th>Movie 8</th>\n",
              "      <th>Movie 9</th>\n",
              "      <th>Movie 10</th>\n",
              "      <th>Movie 11</th>\n",
              "      <th>Movie 12</th>\n",
              "      <th>Movie 13</th>\n",
              "      <th>Movie 14</th>\n",
              "    </tr>\n",
              "  </thead>\n",
              "  <tbody>\n",
              "    <tr>\n",
              "      <th>User 0</th>\n",
              "      <td>4.0</td>\n",
              "      <td>1.0</td>\n",
              "      <td>5</td>\n",
              "      <td>2.0</td>\n",
              "      <td>4.0</td>\n",
              "      <td>5</td>\n",
              "      <td>NaN</td>\n",
              "      <td>1.0</td>\n",
              "      <td>3.0</td>\n",
              "      <td>1.0</td>\n",
              "      <td>5.0</td>\n",
              "      <td>1.0</td>\n",
              "      <td>5.0</td>\n",
              "      <td>NaN</td>\n",
              "      <td>NaN</td>\n",
              "    </tr>\n",
              "    <tr>\n",
              "      <th>User 1</th>\n",
              "      <td>5.0</td>\n",
              "      <td>1.0</td>\n",
              "      <td>3</td>\n",
              "      <td>5.0</td>\n",
              "      <td>1.0</td>\n",
              "      <td>2</td>\n",
              "      <td>4.0</td>\n",
              "      <td>3.0</td>\n",
              "      <td>NaN</td>\n",
              "      <td>NaN</td>\n",
              "      <td>5.0</td>\n",
              "      <td>1.0</td>\n",
              "      <td>4.0</td>\n",
              "      <td>1.0</td>\n",
              "      <td>NaN</td>\n",
              "    </tr>\n",
              "    <tr>\n",
              "      <th>User 2</th>\n",
              "      <td>1.0</td>\n",
              "      <td>NaN</td>\n",
              "      <td>1</td>\n",
              "      <td>NaN</td>\n",
              "      <td>5.0</td>\n",
              "      <td>1</td>\n",
              "      <td>5.0</td>\n",
              "      <td>4.0</td>\n",
              "      <td>2.0</td>\n",
              "      <td>1.0</td>\n",
              "      <td>1.0</td>\n",
              "      <td>NaN</td>\n",
              "      <td>4.0</td>\n",
              "      <td>1.0</td>\n",
              "      <td>2.0</td>\n",
              "    </tr>\n",
              "    <tr>\n",
              "      <th>User 3</th>\n",
              "      <td>NaN</td>\n",
              "      <td>1.0</td>\n",
              "      <td>3</td>\n",
              "      <td>1.0</td>\n",
              "      <td>NaN</td>\n",
              "      <td>1</td>\n",
              "      <td>3.0</td>\n",
              "      <td>4.0</td>\n",
              "      <td>4.0</td>\n",
              "      <td>NaN</td>\n",
              "      <td>5.0</td>\n",
              "      <td>3.0</td>\n",
              "      <td>2.0</td>\n",
              "      <td>NaN</td>\n",
              "      <td>4.0</td>\n",
              "    </tr>\n",
              "    <tr>\n",
              "      <th>User 4</th>\n",
              "      <td>3.0</td>\n",
              "      <td>3.0</td>\n",
              "      <td>4</td>\n",
              "      <td>2.0</td>\n",
              "      <td>NaN</td>\n",
              "      <td>2</td>\n",
              "      <td>4.0</td>\n",
              "      <td>1.0</td>\n",
              "      <td>4.0</td>\n",
              "      <td>NaN</td>\n",
              "      <td>NaN</td>\n",
              "      <td>3.0</td>\n",
              "      <td>NaN</td>\n",
              "      <td>NaN</td>\n",
              "      <td>NaN</td>\n",
              "    </tr>\n",
              "    <tr>\n",
              "      <th>User 5</th>\n",
              "      <td>4.0</td>\n",
              "      <td>NaN</td>\n",
              "      <td>1</td>\n",
              "      <td>2.0</td>\n",
              "      <td>2.0</td>\n",
              "      <td>4</td>\n",
              "      <td>2.0</td>\n",
              "      <td>1.0</td>\n",
              "      <td>2.0</td>\n",
              "      <td>1.0</td>\n",
              "      <td>5.0</td>\n",
              "      <td>3.0</td>\n",
              "      <td>5.0</td>\n",
              "      <td>3.0</td>\n",
              "      <td>4.0</td>\n",
              "    </tr>\n",
              "    <tr>\n",
              "      <th>User 6</th>\n",
              "      <td>2.0</td>\n",
              "      <td>4.0</td>\n",
              "      <td>3</td>\n",
              "      <td>2.0</td>\n",
              "      <td>1.0</td>\n",
              "      <td>2</td>\n",
              "      <td>NaN</td>\n",
              "      <td>NaN</td>\n",
              "      <td>3.0</td>\n",
              "      <td>NaN</td>\n",
              "      <td>5.0</td>\n",
              "      <td>5.0</td>\n",
              "      <td>NaN</td>\n",
              "      <td>NaN</td>\n",
              "      <td>NaN</td>\n",
              "    </tr>\n",
              "    <tr>\n",
              "      <th>User 7</th>\n",
              "      <td>5.0</td>\n",
              "      <td>5.0</td>\n",
              "      <td>5</td>\n",
              "      <td>4.0</td>\n",
              "      <td>4.0</td>\n",
              "      <td>4</td>\n",
              "      <td>2.0</td>\n",
              "      <td>1.0</td>\n",
              "      <td>NaN</td>\n",
              "      <td>1.0</td>\n",
              "      <td>4.0</td>\n",
              "      <td>3.0</td>\n",
              "      <td>5.0</td>\n",
              "      <td>3.0</td>\n",
              "      <td>3.0</td>\n",
              "    </tr>\n",
              "    <tr>\n",
              "      <th>User 8</th>\n",
              "      <td>5.0</td>\n",
              "      <td>1.0</td>\n",
              "      <td>3</td>\n",
              "      <td>NaN</td>\n",
              "      <td>1.0</td>\n",
              "      <td>4</td>\n",
              "      <td>5.0</td>\n",
              "      <td>4.0</td>\n",
              "      <td>NaN</td>\n",
              "      <td>4.0</td>\n",
              "      <td>5.0</td>\n",
              "      <td>NaN</td>\n",
              "      <td>1.0</td>\n",
              "      <td>NaN</td>\n",
              "      <td>NaN</td>\n",
              "    </tr>\n",
              "    <tr>\n",
              "      <th>User 9</th>\n",
              "      <td>2.0</td>\n",
              "      <td>3.0</td>\n",
              "      <td>1</td>\n",
              "      <td>5.0</td>\n",
              "      <td>3.0</td>\n",
              "      <td>1</td>\n",
              "      <td>4.0</td>\n",
              "      <td>1.0</td>\n",
              "      <td>1.0</td>\n",
              "      <td>2.0</td>\n",
              "      <td>5.0</td>\n",
              "      <td>NaN</td>\n",
              "      <td>4.0</td>\n",
              "      <td>NaN</td>\n",
              "      <td>5.0</td>\n",
              "    </tr>\n",
              "  </tbody>\n",
              "</table>\n",
              "</div>\n",
              "    <div class=\"colab-df-buttons\">\n",
              "\n",
              "  <div class=\"colab-df-container\">\n",
              "    <button class=\"colab-df-convert\" onclick=\"convertToInteractive('df-d2a43283-86d2-4564-a432-e9693887ca30')\"\n",
              "            title=\"Convert this dataframe to an interactive table.\"\n",
              "            style=\"display:none;\">\n",
              "\n",
              "  <svg xmlns=\"http://www.w3.org/2000/svg\" height=\"24px\" viewBox=\"0 -960 960 960\">\n",
              "    <path d=\"M120-120v-720h720v720H120Zm60-500h600v-160H180v160Zm220 220h160v-160H400v160Zm0 220h160v-160H400v160ZM180-400h160v-160H180v160Zm440 0h160v-160H620v160ZM180-180h160v-160H180v160Zm440 0h160v-160H620v160Z\"/>\n",
              "  </svg>\n",
              "    </button>\n",
              "\n",
              "  <style>\n",
              "    .colab-df-container {\n",
              "      display:flex;\n",
              "      gap: 12px;\n",
              "    }\n",
              "\n",
              "    .colab-df-convert {\n",
              "      background-color: #E8F0FE;\n",
              "      border: none;\n",
              "      border-radius: 50%;\n",
              "      cursor: pointer;\n",
              "      display: none;\n",
              "      fill: #1967D2;\n",
              "      height: 32px;\n",
              "      padding: 0 0 0 0;\n",
              "      width: 32px;\n",
              "    }\n",
              "\n",
              "    .colab-df-convert:hover {\n",
              "      background-color: #E2EBFA;\n",
              "      box-shadow: 0px 1px 2px rgba(60, 64, 67, 0.3), 0px 1px 3px 1px rgba(60, 64, 67, 0.15);\n",
              "      fill: #174EA6;\n",
              "    }\n",
              "\n",
              "    .colab-df-buttons div {\n",
              "      margin-bottom: 4px;\n",
              "    }\n",
              "\n",
              "    [theme=dark] .colab-df-convert {\n",
              "      background-color: #3B4455;\n",
              "      fill: #D2E3FC;\n",
              "    }\n",
              "\n",
              "    [theme=dark] .colab-df-convert:hover {\n",
              "      background-color: #434B5C;\n",
              "      box-shadow: 0px 1px 3px 1px rgba(0, 0, 0, 0.15);\n",
              "      filter: drop-shadow(0px 1px 2px rgba(0, 0, 0, 0.3));\n",
              "      fill: #FFFFFF;\n",
              "    }\n",
              "  </style>\n",
              "\n",
              "    <script>\n",
              "      const buttonEl =\n",
              "        document.querySelector('#df-d2a43283-86d2-4564-a432-e9693887ca30 button.colab-df-convert');\n",
              "      buttonEl.style.display =\n",
              "        google.colab.kernel.accessAllowed ? 'block' : 'none';\n",
              "\n",
              "      async function convertToInteractive(key) {\n",
              "        const element = document.querySelector('#df-d2a43283-86d2-4564-a432-e9693887ca30');\n",
              "        const dataTable =\n",
              "          await google.colab.kernel.invokeFunction('convertToInteractive',\n",
              "                                                    [key], {});\n",
              "        if (!dataTable) return;\n",
              "\n",
              "        const docLinkHtml = 'Like what you see? Visit the ' +\n",
              "          '<a target=\"_blank\" href=https://colab.research.google.com/notebooks/data_table.ipynb>data table notebook</a>'\n",
              "          + ' to learn more about interactive tables.';\n",
              "        element.innerHTML = '';\n",
              "        dataTable['output_type'] = 'display_data';\n",
              "        await google.colab.output.renderOutput(dataTable, element);\n",
              "        const docLink = document.createElement('div');\n",
              "        docLink.innerHTML = docLinkHtml;\n",
              "        element.appendChild(docLink);\n",
              "      }\n",
              "    </script>\n",
              "  </div>\n",
              "\n",
              "\n",
              "<div id=\"df-a17f5727-dcec-4b57-be87-3ff66cf593b4\">\n",
              "  <button class=\"colab-df-quickchart\" onclick=\"quickchart('df-a17f5727-dcec-4b57-be87-3ff66cf593b4')\"\n",
              "            title=\"Suggest charts\"\n",
              "            style=\"display:none;\">\n",
              "\n",
              "<svg xmlns=\"http://www.w3.org/2000/svg\" height=\"24px\"viewBox=\"0 0 24 24\"\n",
              "     width=\"24px\">\n",
              "    <g>\n",
              "        <path d=\"M19 3H5c-1.1 0-2 .9-2 2v14c0 1.1.9 2 2 2h14c1.1 0 2-.9 2-2V5c0-1.1-.9-2-2-2zM9 17H7v-7h2v7zm4 0h-2V7h2v10zm4 0h-2v-4h2v4z\"/>\n",
              "    </g>\n",
              "</svg>\n",
              "  </button>\n",
              "\n",
              "<style>\n",
              "  .colab-df-quickchart {\n",
              "      --bg-color: #E8F0FE;\n",
              "      --fill-color: #1967D2;\n",
              "      --hover-bg-color: #E2EBFA;\n",
              "      --hover-fill-color: #174EA6;\n",
              "      --disabled-fill-color: #AAA;\n",
              "      --disabled-bg-color: #DDD;\n",
              "  }\n",
              "\n",
              "  [theme=dark] .colab-df-quickchart {\n",
              "      --bg-color: #3B4455;\n",
              "      --fill-color: #D2E3FC;\n",
              "      --hover-bg-color: #434B5C;\n",
              "      --hover-fill-color: #FFFFFF;\n",
              "      --disabled-bg-color: #3B4455;\n",
              "      --disabled-fill-color: #666;\n",
              "  }\n",
              "\n",
              "  .colab-df-quickchart {\n",
              "    background-color: var(--bg-color);\n",
              "    border: none;\n",
              "    border-radius: 50%;\n",
              "    cursor: pointer;\n",
              "    display: none;\n",
              "    fill: var(--fill-color);\n",
              "    height: 32px;\n",
              "    padding: 0;\n",
              "    width: 32px;\n",
              "  }\n",
              "\n",
              "  .colab-df-quickchart:hover {\n",
              "    background-color: var(--hover-bg-color);\n",
              "    box-shadow: 0 1px 2px rgba(60, 64, 67, 0.3), 0 1px 3px 1px rgba(60, 64, 67, 0.15);\n",
              "    fill: var(--button-hover-fill-color);\n",
              "  }\n",
              "\n",
              "  .colab-df-quickchart-complete:disabled,\n",
              "  .colab-df-quickchart-complete:disabled:hover {\n",
              "    background-color: var(--disabled-bg-color);\n",
              "    fill: var(--disabled-fill-color);\n",
              "    box-shadow: none;\n",
              "  }\n",
              "\n",
              "  .colab-df-spinner {\n",
              "    border: 2px solid var(--fill-color);\n",
              "    border-color: transparent;\n",
              "    border-bottom-color: var(--fill-color);\n",
              "    animation:\n",
              "      spin 1s steps(1) infinite;\n",
              "  }\n",
              "\n",
              "  @keyframes spin {\n",
              "    0% {\n",
              "      border-color: transparent;\n",
              "      border-bottom-color: var(--fill-color);\n",
              "      border-left-color: var(--fill-color);\n",
              "    }\n",
              "    20% {\n",
              "      border-color: transparent;\n",
              "      border-left-color: var(--fill-color);\n",
              "      border-top-color: var(--fill-color);\n",
              "    }\n",
              "    30% {\n",
              "      border-color: transparent;\n",
              "      border-left-color: var(--fill-color);\n",
              "      border-top-color: var(--fill-color);\n",
              "      border-right-color: var(--fill-color);\n",
              "    }\n",
              "    40% {\n",
              "      border-color: transparent;\n",
              "      border-right-color: var(--fill-color);\n",
              "      border-top-color: var(--fill-color);\n",
              "    }\n",
              "    60% {\n",
              "      border-color: transparent;\n",
              "      border-right-color: var(--fill-color);\n",
              "    }\n",
              "    80% {\n",
              "      border-color: transparent;\n",
              "      border-right-color: var(--fill-color);\n",
              "      border-bottom-color: var(--fill-color);\n",
              "    }\n",
              "    90% {\n",
              "      border-color: transparent;\n",
              "      border-bottom-color: var(--fill-color);\n",
              "    }\n",
              "  }\n",
              "</style>\n",
              "\n",
              "  <script>\n",
              "    async function quickchart(key) {\n",
              "      const quickchartButtonEl =\n",
              "        document.querySelector('#' + key + ' button');\n",
              "      quickchartButtonEl.disabled = true;  // To prevent multiple clicks.\n",
              "      quickchartButtonEl.classList.add('colab-df-spinner');\n",
              "      try {\n",
              "        const charts = await google.colab.kernel.invokeFunction(\n",
              "            'suggestCharts', [key], {});\n",
              "      } catch (error) {\n",
              "        console.error('Error during call to suggestCharts:', error);\n",
              "      }\n",
              "      quickchartButtonEl.classList.remove('colab-df-spinner');\n",
              "      quickchartButtonEl.classList.add('colab-df-quickchart-complete');\n",
              "    }\n",
              "    (() => {\n",
              "      let quickchartButtonEl =\n",
              "        document.querySelector('#df-a17f5727-dcec-4b57-be87-3ff66cf593b4 button');\n",
              "      quickchartButtonEl.style.display =\n",
              "        google.colab.kernel.accessAllowed ? 'block' : 'none';\n",
              "    })();\n",
              "  </script>\n",
              "</div>\n",
              "    </div>\n",
              "  </div>\n"
            ],
            "application/vnd.google.colaboratory.intrinsic+json": {
              "type": "dataframe",
              "variable_name": "ratings",
              "summary": "{\n  \"name\": \"ratings\",\n  \"rows\": 10,\n  \"fields\": [\n    {\n      \"column\": \"Movie 0\",\n      \"properties\": {\n        \"dtype\": \"number\",\n        \"std\": 1.509230856356236,\n        \"min\": 1.0,\n        \"max\": 5.0,\n        \"num_unique_values\": 5,\n        \"samples\": [\n          5.0,\n          2.0,\n          1.0\n        ],\n        \"semantic_type\": \"\",\n        \"description\": \"\"\n      }\n    },\n    {\n      \"column\": \"Movie 1\",\n      \"properties\": {\n        \"dtype\": \"number\",\n        \"std\": 1.5979898086569353,\n        \"min\": 1.0,\n        \"max\": 5.0,\n        \"num_unique_values\": 4,\n        \"samples\": [\n          3.0,\n          5.0,\n          1.0\n        ],\n        \"semantic_type\": \"\",\n        \"description\": \"\"\n      }\n    },\n    {\n      \"column\": \"Movie 2\",\n      \"properties\": {\n        \"dtype\": \"number\",\n        \"std\": 1,\n        \"min\": 1,\n        \"max\": 5,\n        \"num_unique_values\": 4,\n        \"samples\": [\n          3,\n          4,\n          5\n        ],\n        \"semantic_type\": \"\",\n        \"description\": \"\"\n      }\n    },\n    {\n      \"column\": \"Movie 3\",\n      \"properties\": {\n        \"dtype\": \"number\",\n        \"std\": 1.5526475085202969,\n        \"min\": 1.0,\n        \"max\": 5.0,\n        \"num_unique_values\": 4,\n        \"samples\": [\n          5.0,\n          4.0,\n          2.0\n        ],\n        \"semantic_type\": \"\",\n        \"description\": \"\"\n      }\n    },\n    {\n      \"column\": \"Movie 4\",\n      \"properties\": {\n        \"dtype\": \"number\",\n        \"std\": 1.5979898086569353,\n        \"min\": 1.0,\n        \"max\": 5.0,\n        \"num_unique_values\": 5,\n        \"samples\": [\n          1.0,\n          3.0,\n          5.0\n        ],\n        \"semantic_type\": \"\",\n        \"description\": \"\"\n      }\n    },\n    {\n      \"column\": \"Movie 5\",\n      \"properties\": {\n        \"dtype\": \"number\",\n        \"std\": 1,\n        \"min\": 1,\n        \"max\": 5,\n        \"num_unique_values\": 4,\n        \"samples\": [\n          2,\n          4,\n          5\n        ],\n        \"semantic_type\": \"\",\n        \"description\": \"\"\n      }\n    },\n    {\n      \"column\": \"Movie 6\",\n      \"properties\": {\n        \"dtype\": \"number\",\n        \"std\": 1.1877349391654208,\n        \"min\": 2.0,\n        \"max\": 5.0,\n        \"num_unique_values\": 4,\n        \"samples\": [\n          5.0,\n          2.0,\n          4.0\n        ],\n        \"semantic_type\": \"\",\n        \"description\": \"\"\n      }\n    },\n    {\n      \"column\": \"Movie 7\",\n      \"properties\": {\n        \"dtype\": \"number\",\n        \"std\": 1.4813657362192647,\n        \"min\": 1.0,\n        \"max\": 4.0,\n        \"num_unique_values\": 3,\n        \"samples\": [\n          1.0,\n          3.0,\n          4.0\n        ],\n        \"semantic_type\": \"\",\n        \"description\": \"\"\n      }\n    },\n    {\n      \"column\": \"Movie 8\",\n      \"properties\": {\n        \"dtype\": \"number\",\n        \"std\": 1.1126972805283737,\n        \"min\": 1.0,\n        \"max\": 4.0,\n        \"num_unique_values\": 4,\n        \"samples\": [\n          2.0,\n          1.0,\n          3.0\n        ],\n        \"semantic_type\": \"\",\n        \"description\": \"\"\n      }\n    },\n    {\n      \"column\": \"Movie 9\",\n      \"properties\": {\n        \"dtype\": \"number\",\n        \"std\": 1.2110601416389966,\n        \"min\": 1.0,\n        \"max\": 4.0,\n        \"num_unique_values\": 3,\n        \"samples\": [\n          1.0,\n          4.0,\n          2.0\n        ],\n        \"semantic_type\": \"\",\n        \"description\": \"\"\n      }\n    },\n    {\n      \"column\": \"Movie 10\",\n      \"properties\": {\n        \"dtype\": \"number\",\n        \"std\": 1.3333333333333335,\n        \"min\": 1.0,\n        \"max\": 5.0,\n        \"num_unique_values\": 3,\n        \"samples\": [\n          5.0,\n          1.0,\n          4.0\n        ],\n        \"semantic_type\": \"\",\n        \"description\": \"\"\n      }\n    },\n    {\n      \"column\": \"Movie 11\",\n      \"properties\": {\n        \"dtype\": \"number\",\n        \"std\": 1.3801311186847085,\n        \"min\": 1.0,\n        \"max\": 5.0,\n        \"num_unique_values\": 3,\n        \"samples\": [\n          1.0,\n          3.0,\n          5.0\n        ],\n        \"semantic_type\": \"\",\n        \"description\": \"\"\n      }\n    },\n    {\n      \"column\": \"Movie 12\",\n      \"properties\": {\n        \"dtype\": \"number\",\n        \"std\": 1.4880476182856899,\n        \"min\": 1.0,\n        \"max\": 5.0,\n        \"num_unique_values\": 4,\n        \"samples\": [\n          4.0,\n          1.0,\n          5.0\n        ],\n        \"semantic_type\": \"\",\n        \"description\": \"\"\n      }\n    },\n    {\n      \"column\": \"Movie 13\",\n      \"properties\": {\n        \"dtype\": \"number\",\n        \"std\": 1.1547005383792515,\n        \"min\": 1.0,\n        \"max\": 3.0,\n        \"num_unique_values\": 2,\n        \"samples\": [\n          3.0,\n          1.0\n        ],\n        \"semantic_type\": \"\",\n        \"description\": \"\"\n      }\n    },\n    {\n      \"column\": \"Movie 14\",\n      \"properties\": {\n        \"dtype\": \"number\",\n        \"std\": 1.140175425099138,\n        \"min\": 2.0,\n        \"max\": 5.0,\n        \"num_unique_values\": 4,\n        \"samples\": [\n          4.0,\n          5.0\n        ],\n        \"semantic_type\": \"\",\n        \"description\": \"\"\n      }\n    }\n  ]\n}"
            }
          },
          "metadata": {},
          "execution_count": 39
        }
      ],
      "source": [
        "ratings = pd.read_csv(\"ratings.csv\", index_col = 0)\n",
        "ratings"
      ]
    },
    {
      "cell_type": "markdown",
      "metadata": {
        "id": "ydJoZZzkYyal"
      },
      "source": [
        "In addition, you are given the following ratings that another user has made for the same movies."
      ]
    },
    {
      "cell_type": "code",
      "execution_count": 40,
      "metadata": {
        "id": "315D2-YtYyam",
        "outputId": "c41c14d2-2ee0-4f7d-8c53-2b8fc6ca7027",
        "colab": {
          "base_uri": "https://localhost:8080/"
        }
      },
      "outputs": [
        {
          "output_type": "execute_result",
          "data": {
            "text/plain": [
              "Movie 0     1.0\n",
              "Movie 1     NaN\n",
              "Movie 2     NaN\n",
              "Movie 3     2.0\n",
              "Movie 4     4.0\n",
              "Movie 5     NaN\n",
              "Movie 6     1.0\n",
              "Movie 7     4.0\n",
              "Movie 8     NaN\n",
              "Movie 9     NaN\n",
              "Movie 10    NaN\n",
              "Movie 11    NaN\n",
              "Movie 12    NaN\n",
              "Movie 13    3.0\n",
              "Movie 14    5.0\n",
              "Name: 0, dtype: float64"
            ]
          },
          "metadata": {},
          "execution_count": 40
        }
      ],
      "source": [
        "target = pd.read_csv(\"target.csv\", header = 0, index_col=0)\n",
        "target = target.squeeze()\n",
        "target"
      ]
    },
    {
      "cell_type": "markdown",
      "metadata": {
        "id": "YxqMbIPaYyam"
      },
      "source": [
        "You are asked to predict the ratings for the movies that the target user has not seen yet, that is for the movies that have a rating of zero in the target user array."
      ]
    },
    {
      "cell_type": "markdown",
      "metadata": {
        "id": "BGkkcZqRYyam"
      },
      "source": [
        "First, we will calculate the similarity between the target user and each of the users in our ratings table. We will then use the 3 most similar users to derive recommendations.\n",
        "\n",
        "To calculate similarity between users, we will use the Pearson correlation formula:\n",
        "\n",
        "$sim(a, b) = \\frac{\\sum_{p \\in P} (r_{a,p}-\\hat{r_a}) (r_{b,p}-\\hat{r_b}) }{\\sqrt{\\sum_{p \\in P} (r_{a,p}-\\hat{r_a})^2} \\sqrt{\\sum_{p \\in P} (r_{b,p}-\\hat{r_b})^2} }$\n",
        "\n",
        "where a and b are users, and P is the set of the items for which BOTH users have provided ratings.\n",
        "\n",
        "Luckily, pandas has a function for calculating correlation: `DataFrame.corrwith()`. This will calculate the correlation between the target series and every row of the ratings dataframe if we specify that `axis = 1` (row-wise).\n",
        "\n",
        "> See the docs: https://pandas.pydata.org/pandas-docs/stable/reference/api/pandas.DataFrame.corrwith.html?highlight=corrwith#pandas.DataFrame.corrwith"
      ]
    },
    {
      "cell_type": "code",
      "execution_count": 41,
      "metadata": {
        "id": "4sr2Q13zYyam",
        "outputId": "5d2d33fc-29fe-41f1-fd4b-6d9bd0e0cb8c",
        "colab": {
          "base_uri": "https://localhost:8080/"
        }
      },
      "outputs": [
        {
          "output_type": "execute_result",
          "data": {
            "text/plain": [
              "User 0   -0.333333\n",
              "User 1   -0.751237\n",
              "User 2    0.062994\n",
              "User 3    0.645497\n",
              "User 4   -0.912871\n",
              "User 5   -0.040032\n",
              "User 6   -0.944911\n",
              "User 7   -0.303697\n",
              "User 8   -0.762493\n",
              "User 9    0.023702\n",
              "dtype: float64"
            ]
          },
          "metadata": {},
          "execution_count": 41
        }
      ],
      "source": [
        "similarity = ratings.corrwith(target, axis = 1, method = 'pearson') # This function calculates everything based on common items (e.g. mean of user is calculated based only on the common items with that other user we correlate with)\n",
        "similarity"
      ]
    },
    {
      "cell_type": "markdown",
      "metadata": {
        "id": "ynjEf3JhYyan"
      },
      "source": [
        "In order to predict accurate preferences, we should only take into account users that have a minimum number of items in common to our target user. This minimum is up to us to define (depends on your data and your application).\n",
        "\n",
        "First, we need to count count how many items each user has in common with our target user.\n",
        "\n",
        "We can calculate this using boolean logic. First we check for which items we have ratings (True) and for which no (False). Then we check for which items we have True in both the ratings data frame AND the target series. Then it is a matter of summing up how many True values we have in every row. This is summarised below, although it would be easier to understand if you do the calculations step by step and print out the result."
      ]
    },
    {
      "cell_type": "code",
      "execution_count": 42,
      "metadata": {
        "id": "PehIKOovYyan",
        "outputId": "a94a7ed1-b050-4eb3-9d7e-7b4d9e12f85c",
        "colab": {
          "base_uri": "https://localhost:8080/"
        }
      },
      "outputs": [
        {
          "output_type": "stream",
          "name": "stdout",
          "text": [
            "        Movie 0  Movie 1  Movie 2  Movie 3  Movie 4  Movie 5  Movie 6  \\\n",
            "User 0     True    False    False     True     True    False    False   \n",
            "User 1     True    False    False     True     True    False     True   \n",
            "User 2     True    False    False    False     True    False     True   \n",
            "User 3    False    False    False     True    False    False     True   \n",
            "User 4     True    False    False     True    False    False     True   \n",
            "User 5     True    False    False     True     True    False     True   \n",
            "User 6     True    False    False     True     True    False    False   \n",
            "User 7     True    False    False     True     True    False     True   \n",
            "User 8     True    False    False    False     True    False     True   \n",
            "User 9     True    False    False     True     True    False     True   \n",
            "\n",
            "        Movie 7  Movie 8  Movie 9  Movie 10  Movie 11  Movie 12  Movie 13  \\\n",
            "User 0     True    False    False     False     False     False     False   \n",
            "User 1     True    False    False     False     False     False      True   \n",
            "User 2     True    False    False     False     False     False      True   \n",
            "User 3     True    False    False     False     False     False     False   \n",
            "User 4     True    False    False     False     False     False     False   \n",
            "User 5     True    False    False     False     False     False      True   \n",
            "User 6    False    False    False     False     False     False     False   \n",
            "User 7     True    False    False     False     False     False      True   \n",
            "User 8     True    False    False     False     False     False     False   \n",
            "User 9     True    False    False     False     False     False     False   \n",
            "\n",
            "        Movie 14  \n",
            "User 0     False  \n",
            "User 1     False  \n",
            "User 2      True  \n",
            "User 3      True  \n",
            "User 4     False  \n",
            "User 5      True  \n",
            "User 6     False  \n",
            "User 7      True  \n",
            "User 8     False  \n",
            "User 9      True  \n"
          ]
        },
        {
          "output_type": "execute_result",
          "data": {
            "text/plain": [
              "User 0    4\n",
              "User 1    6\n",
              "User 2    6\n",
              "User 3    4\n",
              "User 4    4\n",
              "User 5    7\n",
              "User 6    3\n",
              "User 7    7\n",
              "User 8    4\n",
              "User 9    6\n",
              "dtype: int64"
            ]
          },
          "metadata": {},
          "execution_count": 42
        }
      ],
      "source": [
        "# Find how many items do they have in common\n",
        "\n",
        "commonItems = (~ratings.isna()) & (~target.isna())\n",
        "print(commonItems)\n",
        "nCommon = commonItems.sum(axis = 1)\n",
        "nCommon"
      ]
    },
    {
      "cell_type": "markdown",
      "metadata": {
        "id": "MagHiLKpYyan"
      },
      "source": [
        "We can now get the indices of the users that have more than 3 items with the target. This should drop User 6 in this case who only has exactly 3 items in common with the target."
      ]
    },
    {
      "cell_type": "code",
      "execution_count": 43,
      "metadata": {
        "id": "Tbx1N3VYYyan",
        "outputId": "58e75575-a1e7-46d2-e101-b7bf91033cfc",
        "colab": {
          "base_uri": "https://localhost:8080/"
        }
      },
      "outputs": [
        {
          "output_type": "stream",
          "name": "stdout",
          "text": [
            "Index(['User 0', 'User 1', 'User 2', 'User 3', 'User 4', 'User 5', 'User 7',\n",
            "       'User 8', 'User 9'],\n",
            "      dtype='object')\n"
          ]
        },
        {
          "output_type": "execute_result",
          "data": {
            "text/plain": [
              "User 0   -0.333333\n",
              "User 1   -0.751237\n",
              "User 2    0.062994\n",
              "User 3    0.645497\n",
              "User 4   -0.912871\n",
              "User 5   -0.040032\n",
              "User 7   -0.303697\n",
              "User 8   -0.762493\n",
              "User 9    0.023702\n",
              "dtype: float64"
            ]
          },
          "metadata": {},
          "execution_count": 43
        }
      ],
      "source": [
        "minItemsCommon = 3\n",
        "\n",
        "# Get the indices of users with whom we have more than minItemsCommon items in common with the query one\n",
        "idx = nCommon.index[nCommon > minItemsCommon]\n",
        "print (idx)\n",
        "\n",
        "#keep only the users that have more than minItemsCommon with the query\n",
        "similarity = similarity.loc[idx]\n",
        "similarity"
      ]
    },
    {
      "cell_type": "markdown",
      "metadata": {
        "id": "fwoCD4gRYyao"
      },
      "source": [
        "Now, let's find the 3 most similar users in the remaining ones. We can do that by sorting the similarities series (from smaller to larger) and keeping the last three entries. We can do this using the `sort_values()` function of pandas.\n",
        "\n",
        "> See the documentation here: https://pandas.pydata.org/pandas-docs/stable/reference/api/pandas.DataFrame.sort_values.html"
      ]
    },
    {
      "cell_type": "code",
      "execution_count": 44,
      "metadata": {
        "id": "KU3ahXyWYyao",
        "outputId": "7742ef48-a8a4-4e8f-c8c3-b42d2169c694",
        "colab": {
          "base_uri": "https://localhost:8080/"
        }
      },
      "outputs": [
        {
          "output_type": "execute_result",
          "data": {
            "text/plain": [
              "Index(['User 3', 'User 2', 'User 9'], dtype='object')"
            ]
          },
          "metadata": {},
          "execution_count": 44
        }
      ],
      "source": [
        "topN = 3\n",
        "\n",
        "similarity.sort_values(ascending = False, inplace = True)\n",
        "idx = similarity.index[:topN] # get the indices of the top N most similar users\n",
        "idx"
      ]
    },
    {
      "cell_type": "markdown",
      "metadata": {
        "id": "63XPOHisYyao"
      },
      "source": [
        "Now that we have the most similar users, we can use their ratings to derive ratings for the target user. To combine the ratings of the most similar users we will use the formula:\n",
        "\n",
        "$ pred(a, i) = \\hat{r_a} + \\frac{\\sum_{b \\in N} sim(a, b) (r_{b,i} - \\hat{r_b})}{\\sum_{b \\in N} sim(a,b)} $\n",
        "\n",
        "where a and i are the user and item for which we want to predict a rating, and N is the set of similar users we have identified.\n",
        "\n",
        "For example, if we wanted to derive the rating for the Movie 2 (`target[\"Movie 2\"]`), we would combine ratings in the following way:"
      ]
    },
    {
      "cell_type": "code",
      "execution_count": 45,
      "metadata": {
        "id": "0B6GoB2zYyao",
        "outputId": "c990c602-fed0-4b4a-f2a8-2c85578f74ba",
        "colab": {
          "base_uri": "https://localhost:8080/"
        }
      },
      "outputs": [
        {
          "output_type": "stream",
          "name": "stdout",
          "text": [
            "\n",
            "user: User 3 Similarity:  0.6454972243679027\n",
            "Has seen the movie: Movie 2\n",
            "Gave it a rating of:  3.0\n",
            "Mean:  2.8181818181818183\n",
            "\n",
            "user: User 2 Similarity:  0.06299407883487121\n",
            "Has seen the movie: Movie 2\n",
            "Gave it a rating of:  1.0\n",
            "Mean:  2.3333333333333335\n",
            "\n",
            "user: User 9 Similarity:  0.02370227315699886\n",
            "Has seen the movie: Movie 2\n",
            "Gave it a rating of:  1.0\n",
            "Mean:  2.8461538461538463\n",
            "\n",
            "The predicted ratings of the target user are: \n",
            " Movie 0     1.000000\n",
            "Movie 1          NaN\n",
            "Movie 2     2.842957\n",
            "Movie 3     2.000000\n",
            "Movie 4     4.000000\n",
            "Movie 5          NaN\n",
            "Movie 6     1.000000\n",
            "Movie 7     4.000000\n",
            "Movie 8          NaN\n",
            "Movie 9          NaN\n",
            "Movie 10         NaN\n",
            "Movie 11         NaN\n",
            "Movie 12         NaN\n",
            "Movie 13    3.000000\n",
            "Movie 14    5.000000\n",
            "Name: 0, dtype: float64\n"
          ]
        }
      ],
      "source": [
        "m = \"Movie 2\" #The movie we are interested in predicting a rating for\n",
        "\n",
        "# initialise two variables in which we will hold the sums of the nominator and the demoninator of our formula\n",
        "sum_nom = sum_denom = 0\n",
        "\n",
        "# Loop through the list of similar users\n",
        "for u in idx:\n",
        "    user_ratings = ratings.loc[u] # the row of ratings corresponding to user u\n",
        "    print(\"\\nuser:\", u, \"Similarity: \", similarity[u])\n",
        "\n",
        "    # Only use the users that have rated the movie we are interested in\n",
        "    if ~(user_ratings.isna()[m]):\n",
        "        print(\"Has seen the movie:\", m)\n",
        "        print(\"Gave it a rating of: \", user_ratings[m])\n",
        "        mu = user_ratings.mean() # Calculate the mean rating of the user, this is based only on movies that have a rating != NaN\n",
        "        print(\"Mean: \", mu)\n",
        "        sum_nom = sum_nom + similarity[u]*(user_ratings[m] - mu) # Nominator\n",
        "        sum_denom = sum_denom + similarity[u] # Denominator\n",
        "    else:\n",
        "        print(\"Has not seen the movie. Ignore.\")\n",
        "\n",
        "if sum_denom != 0: # Check if at least one of the similar users had rated the movie in question, otherwise our denominator would be equal to 0\n",
        "    target[m] = target.mean() + sum_nom / sum_denom\n",
        "\n",
        "print(\"\\nThe predicted ratings of the target user are: \\n\", target)"
      ]
    },
    {
      "cell_type": "markdown",
      "metadata": {
        "id": "Kd7Uu2yvYyao"
      },
      "source": [
        "<font color=blue> Do the same for all the movies that the target user has not rated yet. </font>"
      ]
    },
    {
      "cell_type": "code",
      "execution_count": 46,
      "metadata": {
        "id": "gXAlD-JeYyap",
        "colab": {
          "base_uri": "https://localhost:8080/"
        },
        "outputId": "654eecba-c6a9-42a0-dc28-0f9422f16597"
      },
      "outputs": [
        {
          "output_type": "stream",
          "name": "stdout",
          "text": [
            "['Movie 1', 'Movie 5', 'Movie 8', 'Movie 9', 'Movie 10', 'Movie 11', 'Movie 12']\n"
          ]
        }
      ],
      "source": [
        "# YOUR CODE HERE\n",
        "non_rated = []\n",
        "for m in range(len(target)):\n",
        "  if target.isna()[m]:\n",
        "    non_rated.append(\"Movie \"+ str(m))\n",
        "\n",
        "print(non_rated)"
      ]
    },
    {
      "cell_type": "code",
      "source": [
        "print(target.mean())"
      ],
      "metadata": {
        "colab": {
          "base_uri": "https://localhost:8080/"
        },
        "id": "xlbot4_tAruL",
        "outputId": "69919cff-8295-4af5-9bd2-fd4ee4dfaed0"
      },
      "execution_count": 47,
      "outputs": [
        {
          "output_type": "stream",
          "name": "stdout",
          "text": [
            "2.85536958698305\n"
          ]
        }
      ]
    },
    {
      "cell_type": "code",
      "source": [
        "for m in non_rated:\n",
        "  sum_nom = sum_denom = 0\n",
        "\n",
        "  # Loop through the list of similar users\n",
        "  for u in idx:\n",
        "      user_ratings = ratings.loc[u] # the row of ratings corresponding to user u\n",
        "      print(\"\\nuser:\", u, \"Similarity: \", similarity[u])\n",
        "\n",
        "      # Only use the users that have rated the movie we are interested in\n",
        "      if ~(user_ratings.isna()[m]):\n",
        "          print(\"Has seen the movie:\", m)\n",
        "          print(\"Gave it a rating of: \", user_ratings[m])\n",
        "          mu = user_ratings.mean() # Calculate the mean rating of the user, this is based only on movies that have a rating != NaN\n",
        "          print(\"Mean: \", mu)\n",
        "          sum_nom = sum_nom + similarity[u]*(user_ratings[m] - mu) # Nominator\n",
        "          sum_denom = sum_denom + similarity[u] # Denominator\n",
        "      else:\n",
        "          print(\"Has not seen the movie. Ignore.\")\n",
        "\n",
        "  if sum_denom != 0: # Check if at least one of the similar users had rated the movie in question, otherwise our denominator would be equal to 0\n",
        "      target[m] = target.mean() + sum_nom / sum_denom\n",
        "\n",
        "  print(\"\\nThe predicted ratings of the target user are: \\n\", target)"
      ],
      "metadata": {
        "colab": {
          "base_uri": "https://localhost:8080/"
        },
        "id": "AfPpcJa9-BN7",
        "outputId": "19a6e543-5a49-4ee5-eb9f-19c83ffc4d8d"
      },
      "execution_count": 48,
      "outputs": [
        {
          "output_type": "stream",
          "name": "stdout",
          "text": [
            "\n",
            "user: User 3 Similarity:  0.6454972243679027\n",
            "Has seen the movie: Movie 1\n",
            "Gave it a rating of:  1.0\n",
            "Mean:  2.8181818181818183\n",
            "\n",
            "user: User 2 Similarity:  0.06299407883487121\n",
            "Has not seen the movie. Ignore.\n",
            "\n",
            "user: User 9 Similarity:  0.02370227315699886\n",
            "Has seen the movie: Movie 1\n",
            "Gave it a rating of:  3.0\n",
            "Mean:  2.8461538461538463\n",
            "\n",
            "The predicted ratings of the target user are: \n",
            " Movie 0     1.000000\n",
            "Movie 1     1.107035\n",
            "Movie 2     2.842957\n",
            "Movie 3     2.000000\n",
            "Movie 4     4.000000\n",
            "Movie 5          NaN\n",
            "Movie 6     1.000000\n",
            "Movie 7     4.000000\n",
            "Movie 8          NaN\n",
            "Movie 9          NaN\n",
            "Movie 10         NaN\n",
            "Movie 11         NaN\n",
            "Movie 12         NaN\n",
            "Movie 13    3.000000\n",
            "Movie 14    5.000000\n",
            "Name: 0, dtype: float64\n",
            "\n",
            "user: User 3 Similarity:  0.6454972243679027\n",
            "Has seen the movie: Movie 5\n",
            "Gave it a rating of:  1.0\n",
            "Mean:  2.8181818181818183\n",
            "\n",
            "user: User 2 Similarity:  0.06299407883487121\n",
            "Has seen the movie: Movie 5\n",
            "Gave it a rating of:  1.0\n",
            "Mean:  2.3333333333333335\n",
            "\n",
            "user: User 9 Similarity:  0.02370227315699886\n",
            "Has seen the movie: Movie 5\n",
            "Gave it a rating of:  1.0\n",
            "Mean:  2.8461538461538463\n",
            "\n",
            "The predicted ratings of the target user are: \n",
            " Movie 0     1.000000\n",
            "Movie 1     1.107035\n",
            "Movie 2     2.842957\n",
            "Movie 3     2.000000\n",
            "Movie 4     4.000000\n",
            "Movie 5     0.883737\n",
            "Movie 6     1.000000\n",
            "Movie 7     4.000000\n",
            "Movie 8          NaN\n",
            "Movie 9          NaN\n",
            "Movie 10         NaN\n",
            "Movie 11         NaN\n",
            "Movie 12         NaN\n",
            "Movie 13    3.000000\n",
            "Movie 14    5.000000\n",
            "Name: 0, dtype: float64\n",
            "\n",
            "user: User 3 Similarity:  0.6454972243679027\n",
            "Has seen the movie: Movie 8\n",
            "Gave it a rating of:  4.0\n",
            "Mean:  2.8181818181818183\n",
            "\n",
            "user: User 2 Similarity:  0.06299407883487121\n",
            "Has seen the movie: Movie 8\n",
            "Gave it a rating of:  2.0\n",
            "Mean:  2.3333333333333335\n",
            "\n",
            "user: User 9 Similarity:  0.02370227315699886\n",
            "Has seen the movie: Movie 8\n",
            "Gave it a rating of:  1.0\n",
            "Mean:  2.8461538461538463\n",
            "\n",
            "The predicted ratings of the target user are: \n",
            " Movie 0     1.000000\n",
            "Movie 1     1.107035\n",
            "Movie 2     2.842957\n",
            "Movie 3     2.000000\n",
            "Movie 4     4.000000\n",
            "Movie 5     0.883737\n",
            "Movie 6     1.000000\n",
            "Movie 7     4.000000\n",
            "Movie 8     3.436815\n",
            "Movie 9          NaN\n",
            "Movie 10         NaN\n",
            "Movie 11         NaN\n",
            "Movie 12         NaN\n",
            "Movie 13    3.000000\n",
            "Movie 14    5.000000\n",
            "Name: 0, dtype: float64\n",
            "\n",
            "user: User 3 Similarity:  0.6454972243679027\n",
            "Has not seen the movie. Ignore.\n",
            "\n",
            "user: User 2 Similarity:  0.06299407883487121\n",
            "Has seen the movie: Movie 9\n",
            "Gave it a rating of:  1.0\n",
            "Mean:  2.3333333333333335\n",
            "\n",
            "user: User 9 Similarity:  0.02370227315699886\n",
            "Has seen the movie: Movie 9\n",
            "Gave it a rating of:  2.0\n",
            "Mean:  2.8461538461538463\n",
            "\n",
            "The predicted ratings of the target user are: \n",
            " Movie 0     1.000000\n",
            "Movie 1     1.107035\n",
            "Movie 2     2.842957\n",
            "Movie 3     2.000000\n",
            "Movie 4     4.000000\n",
            "Movie 5     0.883737\n",
            "Movie 6     1.000000\n",
            "Movie 7     4.000000\n",
            "Movie 8     3.436815\n",
            "Movie 9     1.369908\n",
            "Movie 10         NaN\n",
            "Movie 11         NaN\n",
            "Movie 12         NaN\n",
            "Movie 13    3.000000\n",
            "Movie 14    5.000000\n",
            "Name: 0, dtype: float64\n",
            "\n",
            "user: User 3 Similarity:  0.6454972243679027\n",
            "Has seen the movie: Movie 10\n",
            "Gave it a rating of:  5.0\n",
            "Mean:  2.8181818181818183\n",
            "\n",
            "user: User 2 Similarity:  0.06299407883487121\n",
            "Has seen the movie: Movie 10\n",
            "Gave it a rating of:  1.0\n",
            "Mean:  2.3333333333333335\n",
            "\n",
            "user: User 9 Similarity:  0.02370227315699886\n",
            "Has seen the movie: Movie 10\n",
            "Gave it a rating of:  5.0\n",
            "Mean:  2.8461538461538463\n",
            "\n",
            "The predicted ratings of the target user are: \n",
            " Movie 0     1.000000\n",
            "Movie 1     1.107035\n",
            "Movie 2     2.842957\n",
            "Movie 3     2.000000\n",
            "Movie 4     4.000000\n",
            "Movie 5     0.883737\n",
            "Movie 6     1.000000\n",
            "Movie 7     4.000000\n",
            "Movie 8     3.436815\n",
            "Movie 9     1.369908\n",
            "Movie 10    4.348525\n",
            "Movie 11         NaN\n",
            "Movie 12         NaN\n",
            "Movie 13    3.000000\n",
            "Movie 14    5.000000\n",
            "Name: 0, dtype: float64\n",
            "\n",
            "user: User 3 Similarity:  0.6454972243679027\n",
            "Has seen the movie: Movie 11\n",
            "Gave it a rating of:  3.0\n",
            "Mean:  2.8181818181818183\n",
            "\n",
            "user: User 2 Similarity:  0.06299407883487121\n",
            "Has not seen the movie. Ignore.\n",
            "\n",
            "user: User 9 Similarity:  0.02370227315699886\n",
            "Has not seen the movie. Ignore.\n",
            "\n",
            "The predicted ratings of the target user are: \n",
            " Movie 0     1.000000\n",
            "Movie 1     1.107035\n",
            "Movie 2     2.842957\n",
            "Movie 3     2.000000\n",
            "Movie 4     4.000000\n",
            "Movie 5     0.883737\n",
            "Movie 6     1.000000\n",
            "Movie 7     4.000000\n",
            "Movie 8     3.436815\n",
            "Movie 9     1.369908\n",
            "Movie 10    4.348525\n",
            "Movie 11    2.796355\n",
            "Movie 12         NaN\n",
            "Movie 13    3.000000\n",
            "Movie 14    5.000000\n",
            "Name: 0, dtype: float64\n",
            "\n",
            "user: User 3 Similarity:  0.6454972243679027\n",
            "Has seen the movie: Movie 12\n",
            "Gave it a rating of:  2.0\n",
            "Mean:  2.8181818181818183\n",
            "\n",
            "user: User 2 Similarity:  0.06299407883487121\n",
            "Has seen the movie: Movie 12\n",
            "Gave it a rating of:  4.0\n",
            "Mean:  2.3333333333333335\n",
            "\n",
            "user: User 9 Similarity:  0.02370227315699886\n",
            "Has seen the movie: Movie 12\n",
            "Gave it a rating of:  4.0\n",
            "Mean:  2.8461538461538463\n",
            "\n",
            "The predicted ratings of the target user are: \n",
            " Movie 0     1.000000\n",
            "Movie 1     1.107035\n",
            "Movie 2     2.842957\n",
            "Movie 3     2.000000\n",
            "Movie 4     4.000000\n",
            "Movie 5     0.883737\n",
            "Movie 6     1.000000\n",
            "Movie 7     4.000000\n",
            "Movie 8     3.436815\n",
            "Movie 9     1.369908\n",
            "Movie 10    4.348525\n",
            "Movie 11    2.796355\n",
            "Movie 12    2.086963\n",
            "Movie 13    3.000000\n",
            "Movie 14    5.000000\n",
            "Name: 0, dtype: float64\n"
          ]
        }
      ]
    }
  ],
  "metadata": {
    "colab": {
      "provenance": []
    },
    "kernelspec": {
      "display_name": "Python 3",
      "language": "python",
      "name": "python3"
    },
    "language_info": {
      "codemirror_mode": {
        "name": "ipython",
        "version": 3
      },
      "file_extension": ".py",
      "mimetype": "text/x-python",
      "name": "python",
      "nbconvert_exporter": "python",
      "pygments_lexer": "ipython3",
      "version": "3.12.1"
    }
  },
  "nbformat": 4,
  "nbformat_minor": 0
}